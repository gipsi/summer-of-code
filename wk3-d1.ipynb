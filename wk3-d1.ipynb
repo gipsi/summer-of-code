{
 "cells": [
  {
   "cell_type": "markdown",
   "metadata": {},
   "source": [
    "# Gipsi's 1 Million Women to Tech: Summer Of Code 2018\n",
    "\n",
    "## week 3\n",
    "\n",
    "### Natural language processing with Python\n",
    "\n",
    "[NLTK book, ch0](http://www.nltk.org/book/ch00.html)"
   ]
  },
  {
   "cell_type": "code",
   "execution_count": 2,
   "metadata": {},
   "outputs": [
    {
     "name": "stdout",
     "output_type": "stream",
     "text": [
      "loving\n",
      "#testing\n",
      "commaing\n",
      "innovating-waterskiing!smiling.panicking\n",
      "pythoning\n"
     ]
    }
   ],
   "source": [
    "for line in open(\"file.txt\"):\n",
    "    for word in line.split():\n",
    "        if word.endswith('ing'):\n",
    "            print(word)"
   ]
  },
  {
   "cell_type": "code",
   "execution_count": null,
   "metadata": {},
   "outputs": [],
   "source": []
  }
 ],
 "metadata": {
  "kernelspec": {
   "display_name": "Python 3",
   "language": "python",
   "name": "python3"
  },
  "language_info": {
   "codemirror_mode": {
    "name": "ipython",
    "version": 3
   },
   "file_extension": ".py",
   "mimetype": "text/x-python",
   "name": "python",
   "nbconvert_exporter": "python",
   "pygments_lexer": "ipython3",
   "version": "3.7.0"
  }
 },
 "nbformat": 4,
 "nbformat_minor": 2
}
