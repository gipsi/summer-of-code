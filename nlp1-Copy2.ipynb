{
 "cells": [
  {
   "cell_type": "markdown",
   "metadata": {},
   "source": [
    "# Gipsi's 1 Million Women to Tech: Summer Of Code 2018\n",
    "\n",
    "## week 3\n",
    "\n",
    "### Natural language processing with Python\n",
    "\n",
    "[NLTK book, ch0](http://www.nltk.org/book/ch00.html)"
   ]
  },
  {
   "cell_type": "code",
   "execution_count": 1,
   "metadata": {},
   "outputs": [
    {
     "name": "stdout",
     "output_type": "stream",
     "text": [
      "loving\n",
      "#testing\n",
      "commaing\n",
      "coding\n",
      "typing\n",
      "innovating-waterskiing!smiling.panicking\n",
      "pythoning\n"
     ]
    }
   ],
   "source": [
    "for line in open(\"file.txt\"):\n",
    "    for word in line.split():\n",
    "        if word.endswith('ing'):\n",
    "            print(word)"
   ]
  },
  {
   "cell_type": "markdown",
   "metadata": {},
   "source": [
    "### Chapter1. - Language Processing and Python\n",
    "[NLTK book CH1](http://www.nltk.org/book/ch01.html)"
   ]
  },
  {
   "cell_type": "code",
   "execution_count": 26,
   "metadata": {},
   "outputs": [
    {
     "name": "stdout",
     "output_type": "stream",
     "text": [
      "*** Introductory Examples for the NLTK Book ***\n",
      "Loading text1, ..., text9 and sent1, ..., sent9\n",
      "Type the name of the text or sentence to view it.\n",
      "Type: 'texts()' or 'sents()' to list the materials.\n",
      "text1: Moby Dick by Herman Melville 1851\n",
      "text2: Sense and Sensibility by Jane Austen 1811\n",
      "text3: The Book of Genesis\n",
      "text4: Inaugural Address Corpus\n",
      "text5: Chat Corpus\n",
      "text6: Monty Python and the Holy Grail\n",
      "text7: Wall Street Journal\n",
      "text8: Personals Corpus\n",
      "text9: The Man Who Was Thursday by G . K . Chesterton 1908\n"
     ]
    }
   ],
   "source": [
    "import nltk\n",
    "from nltk.book import *\n",
    "# * means everything or all"
   ]
  },
  {
   "cell_type": "code",
   "execution_count": 3,
   "metadata": {},
   "outputs": [
    {
     "name": "stdout",
     "output_type": "stream",
     "text": [
      "text1: Moby Dick by Herman Melville 1851\n",
      "text2: Sense and Sensibility by Jane Austen 1811\n",
      "text3: The Book of Genesis\n",
      "text4: Inaugural Address Corpus\n",
      "text5: Chat Corpus\n",
      "text6: Monty Python and the Holy Grail\n",
      "text7: Wall Street Journal\n",
      "text8: Personals Corpus\n",
      "text9: The Man Who Was Thursday by G . K . Chesterton 1908\n"
     ]
    }
   ],
   "source": [
    "texts()"
   ]
  },
  {
   "cell_type": "code",
   "execution_count": 4,
   "metadata": {},
   "outputs": [
    {
     "name": "stdout",
     "output_type": "stream",
     "text": [
      "sent1: Call me Ishmael .\n",
      "sent2: The family of Dashwood had long been settled in Sussex .\n",
      "sent3: In the beginning God created the heaven and the earth .\n",
      "sent4: Fellow - Citizens of the Senate and of the House of Representatives :\n",
      "sent5: I have a problem with people PMing me to lol JOIN\n",
      "sent6: SCENE 1 : [ wind ] [ clop clop clop ] KING ARTHUR : Whoa there !\n",
      "sent7: Pierre Vinken , 61 years old , will join the board as a nonexecutive director Nov. 29 .\n",
      "sent8: 25 SEXY MALE , seeks attrac older single lady , for discreet encounters .\n",
      "sent9: THE suburb of Saffron Park lay on the sunset side of London , as red and ragged as a cloud of sunset .\n"
     ]
    }
   ],
   "source": [
    "sents()"
   ]
  },
  {
   "cell_type": "code",
   "execution_count": 5,
   "metadata": {
    "scrolled": true
   },
   "outputs": [
    {
     "name": "stdout",
     "output_type": "stream",
     "text": [
      "Displaying 25 of 25 matches:\n",
      " [ angels sing ] Arthur , this is the Holy Grail . Look well , Arthur , for it i\n",
      "urpose , Arthur ... the quest for the Holy Grail . [ boom ] [ singing stops ] LA\n",
      "t he can join us in our quest for the Holy Grail . FRENCH GUARD : Well , I ' ll \n",
      "egy was required if the quest for the Holy Grail were to be brought to a success\n",
      " GALAHAD : You are the keepers of the Holy Grail ? ZOOT : The what ? GALAHAD : T\n",
      "NCELOT : No , we ' ve got to find the Holy Grail . Come on ! GALAHAD : Oh , let \n",
      "ould be the sign that leads us to the Holy Grail ! Brave , brave Concorde , you \n",
      "oung people in the joyful bond of the holy wedlock . Unfortunately , one of them\n",
      " ' ve not given up your quest for the Holy Grail ? MINSTREL : [ singing ] He is \n",
      "? TIM : I do . [ zoosh ] You seek the Holy Grail ! ARTHUR : That is our quest . \n",
      " , we ' re -- we ' re looking for the Holy Grail . Our quest is to find the Holy\n",
      "Holy Grail . Our quest is to find the Holy Grail . KNIGHTS : Yeah . Yes . It is \n",
      "- TIM : Yes , I can help you find the Holy Grail . KNIGHTS : Oh , thank you . Oh\n",
      "in the last resting place of the most Holy Grail . ARTHUR : Where could we find \n",
      "ARTHUR : No . LAUNCELOT : We have the Holy Hand Grenade . ARTHUR : Yes , of cour\n",
      "nade . ARTHUR : Yes , of course ! The Holy Hand Grenade of Antioch ! ' Tis one o\n",
      " him ! Brother Maynard ! Bring up the Holy Hand Grenade ! MONKS : [ chanting ] P\n",
      "ing , ' First shalt thou take out the Holy Pin . Then , shalt thou count to thre\n",
      " , be reached , then lobbest thou thy Holy Hand Grenade of Antioch towards thy f\n",
      "liant and pure of spirit may find the Holy Grail in the Castle of uuggggggh '. A\n",
      "oon peril was no more . The quest for Holy Grail could continue . SCENE 23 : [ g\n",
      " your quest ? LAUNCELOT : To seek the Holy Grail . BRIDGEKEEPER : What is your f\n",
      "t is your quest ? ROBIN : To seek the Holy Grail . BRIDGEKEEPER : What is the ca\n",
      " is your quest ? ARTHUR : To seek the Holy Grail . BRIDGEKEEPER : What is the ai\n",
      "t Thou hast vouchsafed to us the most holy -- [ twong ] [ baaaa ] Jesus Christ !\n"
     ]
    }
   ],
   "source": [
    "text6.concordance(\"Holy\")"
   ]
  },
  {
   "cell_type": "code",
   "execution_count": 6,
   "metadata": {},
   "outputs": [
    {
     "name": "stdout",
     "output_type": "stream",
     "text": [
      "Displaying 3 of 3 matches:\n",
      "ou do ? ARTHUR : How do you do , good lady . I am Arthur , King of the Britons .\n",
      "d you become king then ? ARTHUR : The Lady of the Lake , ... [ angels sing ] ...\n",
      "e thing is , I thought your son was a lady . FATHER : I can understand that . HE\n"
     ]
    }
   ],
   "source": [
    "text6.concordance(\"lady\")"
   ]
  },
  {
   "cell_type": "code",
   "execution_count": 7,
   "metadata": {},
   "outputs": [
    {
     "name": "stdout",
     "output_type": "stream",
     "text": [
      "Displaying 2 of 2 matches:\n",
      "minutes you ' re getting married to a girl whose father owns the biggest tracts \n",
      "BERT : I know , but I want the -- the girl that I marry to have ... [ music ] ..\n"
     ]
    }
   ],
   "source": [
    "text6.concordance(\"girl\")"
   ]
  },
  {
   "cell_type": "code",
   "execution_count": 12,
   "metadata": {
    "scrolled": true
   },
   "outputs": [
    {
     "name": "stdout",
     "output_type": "stream",
     "text": [
      "Displaying 24 of 24 matches:\n",
      "stops ] ARTHUR : Old woman ! DENNIS : Man ! ARTHUR : Man . Sorry . What knight \n",
      ": Old woman ! DENNIS : Man ! ARTHUR : Man . Sorry . What knight live in that ca\n",
      "UR : Well , I can ' t just call you ' Man '. DENNIS : Well , you could say ' De\n",
      " aside ! BLACK KNIGHT : I move for no man . ARTHUR : So be it ! ARTHUR and BLAC\n",
      "ble . It ' s a busy life in Camelot . MAN : I have to push the pram a lot [ out\n",
      "on . ARTHUR : Now look here , my good man -- FRENCH GUARD : I don ' t wanna tal\n",
      " t just a string of pussy jokes . OLD MAN : Get on with it . TIM THE ENCHANTER \n",
      "ear a starling -- oooh SCENE 12 : OLD MAN : Heh , hee ha ha hee hee ! Hee hee h\n",
      "u speak , he has seen the Grail ? OLD MAN : ... Ha ha ha ha ! Heh , hee ha ha h\n",
      "... ARTHUR : Where does he live ? OLD MAN : ... Heh heh heh heh ... ARTHUR : Ol\n",
      " ... Heh heh heh heh ... ARTHUR : Old man , where does he live ? OLD MAN : ... \n",
      " : Old man , where does he live ? OLD MAN : ... Hee ha ha ha . He knows of a ca\n",
      " He knows of a cave , a cave which no man has entered . ARTHUR : And the Grail \n",
      " the Grail . The Grail is there ? OLD MAN : There is much danger , for beyond t\n",
      "the Gorge of Eternal Peril , which no man has ever crossed . ARTHUR : But the G\n",
      "the Grail ! Where is the Grail ?! OLD MAN : Seek you the Bridge of Death . ARTH\n",
      "eath , which leads to the Grail ? OLD MAN : Heh , hee hee hee hee ! Ha ha ha ha\n",
      " . GUEST # 1 : He ' s killed the best man ! GUESTS : [ yelling ] FATHER : Hold \n",
      "to find the enchanter of whom the old man had spoken in scene twenty - four . B\n",
      " boom boom boom boom ] What manner of man are you that can summon up fire witho\n",
      " ARTHUR : Look , um , you ' re a busy man , uh -- TIM : Yes , I can help you fi\n",
      "a creature so foul , so cruel that no man yet has fought with it and lived ! Bo\n",
      "t . ARTHUR : Look ! There ' s the old man from scene twenty - four ! BEDEVERE :\n",
      "n . Come along . INSPECTOR : Put this man in the van . OFFICER # 1 : Clear off \n"
     ]
    }
   ],
   "source": [
    "text6.concordance(\"man\")"
   ]
  },
  {
   "cell_type": "code",
   "execution_count": 4,
   "metadata": {},
   "outputs": [
    {
     "name": "stdout",
     "output_type": "stream",
     "text": [
      "Displaying 3 of 3 matches:\n",
      "ideal republic , where every man and woman is called under the flag for assignm\n",
      "e have proclaimed that every man and woman on this earth has rights , and digni\n",
      "riend of each nation and every man , woman , and child who seeks a future of pe\n"
     ]
    }
   ],
   "source": [
    "text4.concordance(\"woman\")\n"
   ]
  },
  {
   "cell_type": "code",
   "execution_count": 6,
   "metadata": {
    "scrolled": true
   },
   "outputs": [
    {
     "data": {
      "image/png": "[encoded data removed]",
      "text/plain": [
       "<Figure size 432x288 with 1 Axes>"
      ]
     },
     "metadata": {},
     "output_type": "display_data"
    }
   ],
   "source": [
    "# dispersion plots need numpy and matplotlib\n",
    "# can be installed with pip if you don't have Anaconda\n",
    "text4.dispersion_plot([\"man\", \"woman\", \"citizens\", \"democracy\", \"freedom\", \"duties\", \"America\"])"
   ]
  },
  {
   "cell_type": "code",
   "execution_count": null,
   "metadata": {},
   "outputs": [],
   "source": []
  },
  {
   "cell_type": "code",
   "execution_count": 7,
   "metadata": {
    "scrolled": true
   },
   "outputs": [
    {
     "data": {
      "image/png": "[encoded data removed]",
      "text/plain": [
       "<Figure size 432x288 with 1 Axes>"
      ]
     },
     "metadata": {},
     "output_type": "display_data"
    }
   ],
   "source": [
    "# Guess which text!\n",
    "text5.dispersion_plot([\"man\", \"woman\", \"citizens\", \"democracy\", \"freedom\", \"duties\", \"America\"])"
   ]
  },
  {
   "cell_type": "code",
   "execution_count": 8,
   "metadata": {},
   "outputs": [
    {
     "data": {
      "image/png": "[encoded data removed]",
      "text/plain": [
       "<Figure size 432x288 with 1 Axes>"
      ]
     },
     "metadata": {},
     "output_type": "display_data"
    }
   ],
   "source": [
    "# Wall Street Journal\n",
    "text7.dispersion_plot([\"man\", \"woman\", \"citizens\", \"democracy\", \"freedom\", \"duties\", \"America\"])"
   ]
  },
  {
   "cell_type": "code",
   "execution_count": 9,
   "metadata": {},
   "outputs": [
    {
     "name": "stdout",
     "output_type": "stream",
     "text": [
      "true contemptible christian abundant few part mean careful puzzled\n",
      "mystifying passing curious loving wise doleful gamesome singular\n",
      "delightfully perilous fearless\n"
     ]
    }
   ],
   "source": [
    "text1.similar(\"monstrous\")"
   ]
  },
  {
   "cell_type": "code",
   "execution_count": 12,
   "metadata": {},
   "outputs": [
    {
     "name": "stdout",
     "output_type": "stream",
     "text": [
      "board chairman form percentage deaths unit journal risk institute\n",
      "university type billion number total rate support class kind areas\n",
      "process\n"
     ]
    }
   ],
   "source": [
    "text7.similar(\"dilemma\")"
   ]
  },
  {
   "cell_type": "code",
   "execution_count": 1,
   "metadata": {},
   "outputs": [
    {
     "data": {
      "text/plain": [
       "['austen-emma.txt',\n",
       " 'austen-persuasion.txt',\n",
       " 'austen-sense.txt',\n",
       " 'bible-kjv.txt',\n",
       " 'blake-poems.txt',\n",
       " 'bryant-stories.txt',\n",
       " 'burgess-busterbrown.txt',\n",
       " 'carroll-alice.txt',\n",
       " 'chesterton-ball.txt',\n",
       " 'chesterton-brown.txt',\n",
       " 'chesterton-thursday.txt',\n",
       " 'edgeworth-parents.txt',\n",
       " 'melville-moby_dick.txt',\n",
       " 'milton-paradise.txt',\n",
       " 'shakespeare-caesar.txt',\n",
       " 'shakespeare-hamlet.txt',\n",
       " 'shakespeare-macbeth.txt',\n",
       " 'whitman-leaves.txt']"
      ]
     },
     "execution_count": 1,
     "metadata": {},
     "output_type": "execute_result"
    }
   ],
   "source": [
    "# Accessing a text archive by loading an NLTK package then asking to see\n",
    "# the file identifiers.\n",
    "import nltk\n",
    "nltk.corpus.gutenberg.fileids()\n"
   ]
  },
  {
   "cell_type": "code",
   "execution_count": 2,
   "metadata": {},
   "outputs": [
    {
     "data": {
      "text/plain": [
       "192427"
      ]
     },
     "execution_count": 2,
     "metadata": {},
     "output_type": "execute_result"
    }
   ],
   "source": [
    "# Give the text a name and find how many words.\n",
    "# This defines emma, invokes the words() function of the gutenberg object\n",
    "# in NLTK's corpus package.\n",
    "emma = nltk.corpus.gutenberg.words('austen-emma.txt')\n",
    "len(emma)"
   ]
  },
  {
   "cell_type": "code",
   "execution_count": 17,
   "metadata": {},
   "outputs": [
    {
     "data": {
      "text/plain": [
       "['austen-emma.txt',\n",
       " 'austen-persuasion.txt',\n",
       " 'austen-sense.txt',\n",
       " 'bible-kjv.txt',\n",
       " 'blake-poems.txt',\n",
       " 'bryant-stories.txt',\n",
       " 'burgess-busterbrown.txt',\n",
       " 'carroll-alice.txt',\n",
       " 'chesterton-ball.txt',\n",
       " 'chesterton-brown.txt',\n",
       " 'chesterton-thursday.txt',\n",
       " 'edgeworth-parents.txt',\n",
       " 'melville-moby_dick.txt',\n",
       " 'milton-paradise.txt',\n",
       " 'shakespeare-caesar.txt',\n",
       " 'shakespeare-hamlet.txt',\n",
       " 'shakespeare-macbeth.txt',\n",
       " 'whitman-leaves.txt']"
      ]
     },
     "execution_count": 17,
     "metadata": {},
     "output_type": "execute_result"
    }
   ],
   "source": [
    "# It is cumbersome to write such long names \n",
    "# so Python offers another version of the import statement \n",
    "from nltk.corpus import gutenberg\n",
    "gutenberg.fileids()\n"
   ]
  },
  {
   "cell_type": "code",
   "execution_count": 21,
   "metadata": {},
   "outputs": [
    {
     "data": {
      "text/plain": [
       "192427"
      ]
     },
     "execution_count": 21,
     "metadata": {},
     "output_type": "execute_result"
    }
   ],
   "source": [
    "# shorter request \n",
    "emma = gutenberg.words('austen-emma.txt')\n",
    "len(emma)"
   ]
  },
  {
   "cell_type": "code",
   "execution_count": 22,
   "metadata": {},
   "outputs": [
    {
     "data": {
      "text/plain": [
       "8354"
      ]
     },
     "execution_count": 22,
     "metadata": {},
     "output_type": "execute_result"
    }
   ],
   "source": [
    "# quicker to type\n",
    "blake = gutenberg.words('blake-poems.txt')\n",
    "len(blake)"
   ]
  },
  {
   "cell_type": "code",
   "execution_count": 23,
   "metadata": {},
   "outputs": [
    {
     "data": {
      "text/plain": [
       "34110"
      ]
     },
     "execution_count": 23,
     "metadata": {},
     "output_type": "execute_result"
    }
   ],
   "source": [
    "# better for examining more texts\n",
    "alice = gutenberg.words('carroll-alice.txt')\n",
    "len(alice)"
   ]
  },
  {
   "cell_type": "code",
   "execution_count": 25,
   "metadata": {},
   "outputs": [
    {
     "name": "stdout",
     "output_type": "stream",
     "text": [
      "5 25 26 austen-emma.txt\n",
      "5 26 17 austen-persuasion.txt\n",
      "5 28 22 austen-sense.txt\n",
      "4 34 79 bible-kjv.txt\n",
      "5 19 5 blake-poems.txt\n",
      "4 19 14 bryant-stories.txt\n",
      "4 18 12 burgess-busterbrown.txt\n",
      "4 20 13 carroll-alice.txt\n",
      "5 20 12 chesterton-ball.txt\n",
      "5 23 11 chesterton-brown.txt\n",
      "5 18 11 chesterton-thursday.txt\n",
      "4 21 25 edgeworth-parents.txt\n",
      "5 26 15 melville-moby_dick.txt\n",
      "5 52 11 milton-paradise.txt\n",
      "4 12 9 shakespeare-caesar.txt\n",
      "4 12 8 shakespeare-hamlet.txt\n",
      "4 12 7 shakespeare-macbeth.txt\n",
      "5 36 12 whitman-leaves.txt\n"
     ]
    }
   ],
   "source": [
    "# A short program to compute statistics\n",
    "# average word length\n",
    "# average sentence length\n",
    "# average times each word appears in text = lexical diversity \n",
    "\n",
    "for fileid in gutenberg.fileids():\n",
    "    num_chars = len(gutenberg.raw(fileid))\n",
    "    num_words = len(gutenberg.words(fileid))\n",
    "    num_sents = len(gutenberg.sents(fileid))\n",
    "    num_vocab = len(set(w.lower() for w in gutenberg.words(fileid))) \n",
    "    print(round(num_chars/num_words), round(num_words/num_sents), round(num_words/num_vocab), fileid)"
   ]
  },
  {
   "cell_type": "code",
   "execution_count": 27,
   "metadata": {
    "scrolled": true
   },
   "outputs": [
    {
     "data": {
      "text/plain": [
       "145735"
      ]
     },
     "execution_count": 27,
     "metadata": {},
     "output_type": "execute_result"
    }
   ],
   "source": [
    "len(text4)"
   ]
  },
  {
   "cell_type": "code",
   "execution_count": 29,
   "metadata": {},
   "outputs": [
    {
     "data": {
      "text/plain": [
       "['!',\n",
       " '\"',\n",
       " '\";',\n",
       " '\"?',\n",
       " '$',\n",
       " \"'\",\n",
       " '(',\n",
       " ')',\n",
       " '),',\n",
       " ',',\n",
       " ',\"',\n",
       " '-',\n",
       " '--',\n",
       " '.',\n",
       " '.\"',\n",
       " '.)',\n",
       " '...',\n",
       " '....',\n",
       " '.¡¨',\n",
       " '000',\n",
       " '1',\n",
       " '100',\n",
       " '120',\n",
       " '125',\n",
       " '13',\n",
       " '14th',\n",
       " '15th',\n",
       " '16',\n",
       " '1774',\n",
       " '1776',\n",
       " '1778',\n",
       " '1780',\n",
       " '1787',\n",
       " '1789',\n",
       " '1790',\n",
       " '1800',\n",
       " '1801',\n",
       " '1812',\n",
       " '1815',\n",
       " '1816',\n",
       " '1817',\n",
       " '1818',\n",
       " '1826',\n",
       " '1850',\n",
       " '1861',\n",
       " '1868',\n",
       " '1873',\n",
       " '1880',\n",
       " '1886',\n",
       " '1890',\n",
       " '1893',\n",
       " '1896',\n",
       " '1897',\n",
       " '1898',\n",
       " '1899',\n",
       " '18th',\n",
       " '1907',\n",
       " '1917',\n",
       " '1933',\n",
       " '1941',\n",
       " '1945',\n",
       " '1963',\n",
       " '1972',\n",
       " '1980',\n",
       " '1984',\n",
       " '19th',\n",
       " '2',\n",
       " '20',\n",
       " '200',\n",
       " '200th',\n",
       " '20th',\n",
       " '21st',\n",
       " '225',\n",
       " '25',\n",
       " '3',\n",
       " '30',\n",
       " '30th',\n",
       " '3d',\n",
       " '4',\n",
       " '41',\n",
       " '48',\n",
       " '4th',\n",
       " '5',\n",
       " '50',\n",
       " '50th',\n",
       " '6',\n",
       " '60',\n",
       " '67',\n",
       " '6th',\n",
       " '7',\n",
       " '8',\n",
       " '9',\n",
       " ':',\n",
       " ';',\n",
       " '?',\n",
       " '?\"',\n",
       " 'A',\n",
       " 'AIDS',\n",
       " 'ALL',\n",
       " 'AMENDMENT',\n",
       " 'AS',\n",
       " 'Abandonment',\n",
       " 'Abhorring',\n",
       " 'About',\n",
       " 'Above',\n",
       " 'Abraham',\n",
       " 'Abroad',\n",
       " 'Accept',\n",
       " 'Across',\n",
       " 'Act',\n",
       " 'Acting',\n",
       " 'Action',\n",
       " 'Actual',\n",
       " 'Adams',\n",
       " 'Additional',\n",
       " 'Address',\n",
       " 'Administered',\n",
       " 'Administration',\n",
       " 'Administrations',\n",
       " 'Advance',\n",
       " 'Advancing',\n",
       " 'Afghanistan',\n",
       " 'Africa',\n",
       " 'African',\n",
       " 'After',\n",
       " 'Again',\n",
       " 'Age',\n",
       " 'Agriculture',\n",
       " 'Alamo',\n",
       " 'All',\n",
       " 'Alleghanies',\n",
       " 'Almighty',\n",
       " 'Almost',\n",
       " 'Along',\n",
       " 'Already',\n",
       " 'Although',\n",
       " 'Always',\n",
       " 'Amelia',\n",
       " 'Amen',\n",
       " 'America',\n",
       " 'American',\n",
       " 'Americanism',\n",
       " 'Americans',\n",
       " 'Americas',\n",
       " 'Amid',\n",
       " 'Amidst',\n",
       " 'Among',\n",
       " 'Amongst',\n",
       " 'An',\n",
       " 'And',\n",
       " 'Andes',\n",
       " 'Annihilate',\n",
       " 'Another',\n",
       " 'Anthony',\n",
       " 'Anxiety',\n",
       " 'Anxious',\n",
       " 'Any',\n",
       " 'Anyone',\n",
       " 'Apollo',\n",
       " 'Appreciating',\n",
       " 'Apprehension',\n",
       " 'April',\n",
       " 'Arbitration',\n",
       " 'Archibald',\n",
       " 'Are',\n",
       " 'Argonne',\n",
       " 'Arlington',\n",
       " 'Armies',\n",
       " 'Army',\n",
       " 'Articles',\n",
       " 'As',\n",
       " 'Asia',\n",
       " 'Asiatic',\n",
       " 'Assessing',\n",
       " 'Assistance',\n",
       " 'Association',\n",
       " 'Assuring',\n",
       " 'At',\n",
       " 'Athens',\n",
       " 'Atlantic',\n",
       " 'Attention',\n",
       " 'Author',\n",
       " 'BUSINESS',\n",
       " 'BY',\n",
       " 'Bad',\n",
       " 'Baker',\n",
       " 'Baltimore',\n",
       " 'Barbary',\n",
       " 'Batavian',\n",
       " 'Beach',\n",
       " 'Because',\n",
       " 'Before',\n",
       " 'Being',\n",
       " 'Belief',\n",
       " 'Believing',\n",
       " 'Bell',\n",
       " 'Belleau',\n",
       " 'Beneath',\n",
       " 'Beneficent',\n",
       " 'Bernardin',\n",
       " 'Besides',\n",
       " 'Between',\n",
       " 'Beyond',\n",
       " 'Bible',\n",
       " 'Bicentennial',\n",
       " 'Bill',\n",
       " 'Blessed',\n",
       " 'Board',\n",
       " 'Bolivar',\n",
       " 'Boston',\n",
       " 'Both',\n",
       " 'Britain',\n",
       " 'Britannic',\n",
       " 'British',\n",
       " 'Brutus',\n",
       " 'Budapest',\n",
       " 'Bureau',\n",
       " 'Burger',\n",
       " 'Burma',\n",
       " 'Bush',\n",
       " 'Business',\n",
       " 'But',\n",
       " 'By',\n",
       " 'CONCLUSION',\n",
       " 'CONGRESS',\n",
       " 'COOPERATION',\n",
       " 'CRIMINAL',\n",
       " 'Cabinet',\n",
       " 'Caesar',\n",
       " 'California',\n",
       " 'Called',\n",
       " 'Calmness',\n",
       " 'Calvin',\n",
       " 'Camillus',\n",
       " 'Can',\n",
       " 'Canal',\n",
       " 'Cantons',\n",
       " 'Cape',\n",
       " 'Capital',\n",
       " 'Capitol',\n",
       " 'Cardinal',\n",
       " 'Care',\n",
       " 'Carolina',\n",
       " 'Carter',\n",
       " 'Cemetery',\n",
       " 'Central',\n",
       " 'Century',\n",
       " 'Certain',\n",
       " 'Chairman',\n",
       " 'Chamber',\n",
       " 'Change',\n",
       " 'Charta',\n",
       " 'Charter',\n",
       " 'Cheney',\n",
       " 'Chief',\n",
       " 'China',\n",
       " 'Chop',\n",
       " 'Chosen',\n",
       " 'Chosin',\n",
       " 'Christian',\n",
       " 'Christianity',\n",
       " 'Christians',\n",
       " 'Christmas',\n",
       " 'Christs',\n",
       " 'Church',\n",
       " 'Churchill',\n",
       " 'Cincinnati',\n",
       " 'Citizens',\n",
       " 'Civil',\n",
       " 'Civility',\n",
       " 'Claiming',\n",
       " 'Clay',\n",
       " 'Clearly',\n",
       " 'Clergy',\n",
       " 'Clinton',\n",
       " 'Closely',\n",
       " 'Coast',\n",
       " 'Cold',\n",
       " 'Coleman',\n",
       " 'Colonel',\n",
       " 'Columbia',\n",
       " 'Comfort',\n",
       " 'Commander',\n",
       " 'Commendable',\n",
       " 'Commerce',\n",
       " 'Commission',\n",
       " 'Commissioners',\n",
       " 'Common',\n",
       " 'Commons',\n",
       " 'Commonwealth',\n",
       " 'Communications',\n",
       " 'Communism',\n",
       " 'Communist',\n",
       " 'Communists',\n",
       " 'Compact',\n",
       " 'Compared',\n",
       " 'Conceived',\n",
       " 'Conceiving',\n",
       " 'Concord',\n",
       " 'Conditions',\n",
       " 'Confederacy',\n",
       " 'Confederation',\n",
       " 'Confidence',\n",
       " 'Confident',\n",
       " 'Confidently',\n",
       " 'Confusion',\n",
       " 'Congress',\n",
       " 'Congressional',\n",
       " 'Congressman',\n",
       " 'Connected',\n",
       " 'Conscious',\n",
       " 'Considering',\n",
       " 'Constantly',\n",
       " 'Constitution',\n",
       " 'Constitutional',\n",
       " 'Contemplating',\n",
       " 'Content',\n",
       " 'Continue',\n",
       " 'Convention',\n",
       " 'Convinced',\n",
       " 'Cook',\n",
       " 'Coolidge',\n",
       " 'Corporations',\n",
       " 'Cortes',\n",
       " 'Country',\n",
       " 'Countrymen',\n",
       " 'Courage',\n",
       " 'Court',\n",
       " 'Covenant',\n",
       " 'Creator',\n",
       " 'Crime',\n",
       " 'Croix',\n",
       " 'Cromwell',\n",
       " 'Cuba',\n",
       " 'Cuban',\n",
       " 'Cubans',\n",
       " 'Cures',\n",
       " 'Curtii',\n",
       " 'Dakota',\n",
       " 'Dakotas',\n",
       " 'Dangers',\n",
       " 'Dark',\n",
       " 'David',\n",
       " 'Day',\n",
       " 'December',\n",
       " 'Decii',\n",
       " 'Declaration',\n",
       " 'Deeply',\n",
       " 'Delano',\n",
       " 'Democracy',\n",
       " 'Democratic',\n",
       " 'Democrats',\n",
       " 'Department',\n",
       " 'Departments',\n",
       " 'Depression',\n",
       " 'Descending',\n",
       " 'Destructive',\n",
       " 'Did',\n",
       " 'Difficult',\n",
       " 'Dingley',\n",
       " 'Directly',\n",
       " 'Dirksen',\n",
       " 'Discord',\n",
       " 'Discouraging',\n",
       " 'Disease',\n",
       " 'Distinct',\n",
       " 'District',\n",
       " 'Distrust',\n",
       " 'Divided',\n",
       " 'Divine',\n",
       " 'Division',\n",
       " 'Do',\n",
       " 'Does',\n",
       " 'Doing',\n",
       " 'Dole',\n",
       " 'Domestic',\n",
       " 'Domingo',\n",
       " 'Dr',\n",
       " 'Dream',\n",
       " 'Due',\n",
       " 'Dulled',\n",
       " 'During',\n",
       " 'EDUCATION',\n",
       " 'EIGHTEENTH',\n",
       " 'ELECTION',\n",
       " 'ENFORCEMENT',\n",
       " 'Each',\n",
       " 'Earth',\n",
       " 'East',\n",
       " 'Economic',\n",
       " 'Economy',\n",
       " 'Egypt',\n",
       " 'Eight',\n",
       " 'Eisenhower',\n",
       " 'Elected',\n",
       " 'Emerson',\n",
       " 'Emperor',\n",
       " 'Employed',\n",
       " 'Encountering',\n",
       " 'Encouraging',\n",
       " 'Ending',\n",
       " 'Endowed',\n",
       " 'Engineers',\n",
       " 'England',\n",
       " 'English',\n",
       " 'Enough',\n",
       " 'Entering',\n",
       " 'Enterprises',\n",
       " 'Envy',\n",
       " 'Equal',\n",
       " 'Equality',\n",
       " 'Equally',\n",
       " 'Especially',\n",
       " 'Establishment',\n",
       " 'Europe',\n",
       " 'European',\n",
       " 'Eve',\n",
       " 'Even',\n",
       " 'Events',\n",
       " 'Eventually',\n",
       " 'Ever',\n",
       " 'Every',\n",
       " 'Everyone',\n",
       " 'Everywhere',\n",
       " 'Executive',\n",
       " 'Existing',\n",
       " 'Expenditure',\n",
       " 'Experience',\n",
       " 'Experiencing',\n",
       " 'FAILURE',\n",
       " 'FROM',\n",
       " 'Faced',\n",
       " 'Far',\n",
       " 'Farewell',\n",
       " 'Father',\n",
       " 'Fathers',\n",
       " 'February',\n",
       " 'Federal',\n",
       " 'Federalists',\n",
       " 'Fellow',\n",
       " 'Fifty',\n",
       " 'Finally',\n",
       " 'First',\n",
       " 'Florida',\n",
       " 'Floridas',\n",
       " 'Following',\n",
       " 'Fondly',\n",
       " 'For',\n",
       " 'Force',\n",
       " 'Forces',\n",
       " 'Foreign',\n",
       " 'Forge',\n",
       " 'Fort',\n",
       " 'Fortunate',\n",
       " 'Fortunately',\n",
       " 'Forty',\n",
       " 'Founders',\n",
       " 'Founding',\n",
       " 'Fountain',\n",
       " 'Four',\n",
       " 'Fourth',\n",
       " 'France',\n",
       " 'Franklin',\n",
       " 'Freed',\n",
       " 'Freedom',\n",
       " 'French',\n",
       " 'Friends',\n",
       " 'From',\n",
       " 'Front',\n",
       " 'Fruitful',\n",
       " 'Fully',\n",
       " 'G',\n",
       " 'GOVERNMENT',\n",
       " 'Gatun',\n",
       " 'Gaul',\n",
       " 'General',\n",
       " 'Genius',\n",
       " 'George',\n",
       " 'Germany',\n",
       " 'Gettysburg',\n",
       " 'Ghent',\n",
       " 'Gillis',\n",
       " 'Give',\n",
       " 'Giver',\n",
       " 'God',\n",
       " 'Godsend',\n",
       " 'Goethals',\n",
       " 'Golden',\n",
       " 'Good',\n",
       " 'Gore',\n",
       " 'Government',\n",
       " 'Governments',\n",
       " 'Grant',\n",
       " 'Grave',\n",
       " 'Great',\n",
       " 'Greater',\n",
       " 'Greatness',\n",
       " 'Greece',\n",
       " 'Gross',\n",
       " 'Growing',\n",
       " 'Guadalcanal',\n",
       " 'Guarantees',\n",
       " 'Guided',\n",
       " 'Gulf',\n",
       " 'HEALTH',\n",
       " 'Had',\n",
       " 'Hague',\n",
       " 'Half',\n",
       " 'Hall',\n",
       " 'Hand',\n",
       " 'Happily',\n",
       " 'Happiness',\n",
       " 'Happy',\n",
       " 'Hard',\n",
       " 'Has',\n",
       " 'Hatfield',\n",
       " 'Have',\n",
       " 'Having',\n",
       " 'He',\n",
       " 'Heads',\n",
       " 'Heaven',\n",
       " 'Heavenly',\n",
       " 'Help',\n",
       " 'Helvetic',\n",
       " 'Hemisphere',\n",
       " 'Hence',\n",
       " 'Here',\n",
       " 'Herein',\n",
       " 'High',\n",
       " 'Higher',\n",
       " 'Hill',\n",
       " 'Him',\n",
       " 'Hindus',\n",
       " 'His',\n",
       " 'History',\n",
       " 'Hitherto',\n",
       " 'Holy',\n",
       " 'Homes',\n",
       " 'Homestead',\n",
       " 'Honesty',\n",
       " 'Honorable',\n",
       " 'Honored',\n",
       " 'Honoring',\n",
       " 'Hope',\n",
       " 'Horn',\n",
       " 'House',\n",
       " 'Houses',\n",
       " 'How',\n",
       " 'However',\n",
       " 'Human',\n",
       " 'Humanity',\n",
       " 'Humphrey',\n",
       " 'Hundreds',\n",
       " 'I',\n",
       " 'II',\n",
       " 'INVESTIGATION',\n",
       " 'Idle',\n",
       " 'If',\n",
       " 'Ill',\n",
       " 'Illiteracy',\n",
       " 'Immunity',\n",
       " 'In',\n",
       " 'Inauguration',\n",
       " 'Inconsiderable',\n",
       " 'Indeed',\n",
       " 'Independence',\n",
       " 'Independently',\n",
       " 'Indian',\n",
       " 'Indians',\n",
       " 'Indies',\n",
       " 'Indo',\n",
       " 'Indulging',\n",
       " 'Industrial',\n",
       " 'Industry',\n",
       " 'Infinite',\n",
       " 'Information',\n",
       " 'Instead',\n",
       " 'Instinctively',\n",
       " 'Intelligence',\n",
       " 'Intentions',\n",
       " 'Internal',\n",
       " 'International',\n",
       " 'Internet',\n",
       " 'Interstate',\n",
       " 'Intrusted',\n",
       " 'Invasions',\n",
       " 'Investment',\n",
       " 'Invisible',\n",
       " 'Iowa',\n",
       " 'Iraq',\n",
       " 'Irritated',\n",
       " 'Is',\n",
       " 'Isaiah',\n",
       " 'Island',\n",
       " 'Islands',\n",
       " 'Isles',\n",
       " 'Israel',\n",
       " 'Isthmus',\n",
       " 'It',\n",
       " 'Italy',\n",
       " 'Its',\n",
       " 'Iwo',\n",
       " 'JUSTICE',\n",
       " 'Janeiro',\n",
       " 'January',\n",
       " 'Jealous',\n",
       " 'Jefferson',\n",
       " 'Jericho',\n",
       " 'Jews',\n",
       " 'Jima',\n",
       " 'John',\n",
       " 'Johnson',\n",
       " 'Joseph',\n",
       " 'Julia',\n",
       " 'July',\n",
       " 'Just',\n",
       " 'Justice',\n",
       " 'K',\n",
       " 'Kansas',\n",
       " 'Khe',\n",
       " 'Kindly',\n",
       " 'King',\n",
       " 'Knowing',\n",
       " 'Koran',\n",
       " 'Korea',\n",
       " 'Labor',\n",
       " 'Laboring',\n",
       " 'Lakes',\n",
       " 'Latent',\n",
       " 'Laws',\n",
       " 'Leader',\n",
       " 'League',\n",
       " 'Legislation',\n",
       " 'Legislature',\n",
       " 'Legitimate',\n",
       " 'Less',\n",
       " 'Let',\n",
       " 'Liberty',\n",
       " 'Like',\n",
       " 'Likewise',\n",
       " 'Limited',\n",
       " 'Lincoln',\n",
       " 'Lives',\n",
       " 'Loans',\n",
       " 'Local',\n",
       " 'Long',\n",
       " 'Look',\n",
       " 'Looking',\n",
       " 'Lord',\n",
       " 'Louisiana',\n",
       " 'Love',\n",
       " 'Loyalty',\n",
       " 'Luther',\n",
       " 'Lynchings',\n",
       " 'MANDATES',\n",
       " 'MY',\n",
       " 'MacLeish',\n",
       " 'Madison',\n",
       " 'Magistrate',\n",
       " 'Magna',\n",
       " 'Magnifying',\n",
       " 'Majesty',\n",
       " 'Majority',\n",
       " 'Make',\n",
       " 'Maker',\n",
       " 'Malaya',\n",
       " 'Mall',\n",
       " 'Manifestly',\n",
       " 'Mankind',\n",
       " 'Many',\n",
       " 'March',\n",
       " 'Mars',\n",
       " 'Martin',\n",
       " 'Massachusetts',\n",
       " 'Masses',\n",
       " 'Mathias',\n",
       " 'May',\n",
       " 'Mayflower',\n",
       " 'Meantime',\n",
       " 'Measures',\n",
       " 'Medicare',\n",
       " 'Mediterranean',\n",
       " 'Melancholy',\n",
       " 'Memorial',\n",
       " 'Men',\n",
       " 'Mental',\n",
       " 'Mexico',\n",
       " 'Micah',\n",
       " 'Michael',\n",
       " 'Middle',\n",
       " 'Mill',\n",
       " 'Mind',\n",
       " 'Mindful',\n",
       " 'Minorities',\n",
       " 'Mischievous',\n",
       " 'Misled',\n",
       " 'Miss',\n",
       " 'Mississippi',\n",
       " 'Missouri',\n",
       " 'Mitchell',\n",
       " 'Modern',\n",
       " 'Moment',\n",
       " 'Mondale',\n",
       " 'Monday',\n",
       " 'Monroe',\n",
       " 'Montana',\n",
       " 'Monticello',\n",
       " 'Moomaw',\n",
       " 'Moon',\n",
       " 'Moral',\n",
       " 'More',\n",
       " 'Moreover',\n",
       " 'Mormon',\n",
       " 'Moscow',\n",
       " 'Most',\n",
       " 'Mount',\n",
       " 'Mountains',\n",
       " 'Mr',\n",
       " 'Mrs',\n",
       " 'Much',\n",
       " 'Muslim',\n",
       " 'Muslims',\n",
       " 'Must',\n",
       " 'My',\n",
       " 'NATIONAL',\n",
       " 'Nation',\n",
       " 'National',\n",
       " 'Nations',\n",
       " 'Nature',\n",
       " 'Naval',\n",
       " 'Navy',\n",
       " 'Nearly',\n",
       " 'Nebraska',\n",
       " 'Negligence',\n",
       " 'Negro',\n",
       " 'Negroes',\n",
       " 'Neill',\n",
       " 'Neither',\n",
       " 'Never',\n",
       " 'New',\n",
       " 'Next',\n",
       " 'Nixon',\n",
       " 'No',\n",
       " 'None',\n",
       " 'Nor',\n",
       " 'Normandy',\n",
       " 'North',\n",
       " 'Northerners',\n",
       " 'Not',\n",
       " 'Nothing',\n",
       " 'Notwithstanding',\n",
       " 'November',\n",
       " 'Now',\n",
       " 'Nowhere',\n",
       " 'O',\n",
       " 'OF',\n",
       " 'OTHER',\n",
       " 'OUR',\n",
       " 'Occasionally',\n",
       " 'Ocean',\n",
       " 'Oceans',\n",
       " 'Octavius',\n",
       " 'October',\n",
       " 'Of',\n",
       " 'Off',\n",
       " 'Offices',\n",
       " 'Ohio',\n",
       " 'Old',\n",
       " 'Omaha',\n",
       " 'Omnipotence',\n",
       " 'On',\n",
       " 'Once',\n",
       " 'One',\n",
       " 'Only',\n",
       " 'Opportunism',\n",
       " 'Opportunity',\n",
       " 'Or',\n",
       " 'Order',\n",
       " 'Oregon',\n",
       " 'Orient',\n",
       " 'Orleans',\n",
       " 'Other',\n",
       " 'Others',\n",
       " 'Our',\n",
       " 'Ours',\n",
       " 'Out',\n",
       " 'Over',\n",
       " 'Overlooking',\n",
       " 'Overwhelmingly',\n",
       " 'PARTY',\n",
       " 'PEACE',\n",
       " 'PROGRESS',\n",
       " 'PUBLIC',\n",
       " 'Pacific',\n",
       " 'Page',\n",
       " 'Panama',\n",
       " 'Parchment',\n",
       " 'Parent',\n",
       " 'Parents',\n",
       " 'Paris',\n",
       " 'Parliament',\n",
       " 'Partial',\n",
       " 'Party',\n",
       " 'Passing',\n",
       " 'Passion',\n",
       " 'Patriotism',\n",
       " 'Patron',\n",
       " 'Peabody',\n",
       " 'Peace',\n",
       " 'Peking',\n",
       " 'Penetrating',\n",
       " 'Pennsylvania',\n",
       " 'People',\n",
       " 'Peoples',\n",
       " 'Perceiving',\n",
       " 'Perfection',\n",
       " 'Perhaps',\n",
       " 'Permanent',\n",
       " 'Perpetual',\n",
       " 'Perpetuity',\n",
       " 'Persian',\n",
       " 'Persistent',\n",
       " 'Personally',\n",
       " 'Petitions',\n",
       " 'Philippine',\n",
       " 'Philippines',\n",
       " 'Physically',\n",
       " 'Plainly',\n",
       " 'Pledge',\n",
       " 'Plenty',\n",
       " 'Political',\n",
       " 'Pool',\n",
       " 'Pork',\n",
       " 'Porto',\n",
       " 'Ports',\n",
       " 'Position',\n",
       " 'Possessing',\n",
       " 'Posterity',\n",
       " 'Potomac',\n",
       " 'Power',\n",
       " 'Powerful',\n",
       " 'Powers',\n",
       " 'Practices',\n",
       " 'Preeminently',\n",
       " 'Prejudice',\n",
       " 'Present',\n",
       " 'Presidency',\n",
       " 'President',\n",
       " 'Presidential',\n",
       " 'Presidents',\n",
       " 'Previous',\n",
       " 'Price',\n",
       " 'Prices',\n",
       " 'Primarily',\n",
       " 'Problems',\n",
       " 'Proceeding',\n",
       " 'Product',\n",
       " 'Profound',\n",
       " 'Progress',\n",
       " 'Proofs',\n",
       " 'Prophets',\n",
       " 'Prosperity',\n",
       " 'Protector',\n",
       " 'Providence',\n",
       " 'Province',\n",
       " 'Public',\n",
       " 'Purposes',\n",
       " 'Putting',\n",
       " 'Quayle',\n",
       " 'RELATION',\n",
       " 'RESPONSIBILITIES',\n",
       " 'Race',\n",
       " 'Rainbow',\n",
       " 'Raised',\n",
       " 'Rather',\n",
       " 'Reagan',\n",
       " 'Realizing',\n",
       " 'Reasoned',\n",
       " 'Recall',\n",
       " 'Recent',\n",
       " 'Recognition',\n",
       " 'Recognizing',\n",
       " 'Reconstruction',\n",
       " 'Red',\n",
       " 'Reflecting',\n",
       " 'Reform',\n",
       " 'Reforms',\n",
       " 'Relief',\n",
       " 'Relying',\n",
       " 'Removing',\n",
       " 'Renewed',\n",
       " 'Repeated',\n",
       " 'Representative',\n",
       " 'Representatives',\n",
       " 'Republic',\n",
       " 'Republican',\n",
       " 'Republicans',\n",
       " 'Republics',\n",
       " 'Reservoir',\n",
       " 'Resolved',\n",
       " 'Respecting',\n",
       " 'Resting',\n",
       " 'Restoration',\n",
       " 'Retrospect',\n",
       " 'Returning',\n",
       " 'Reverend',\n",
       " 'Revolution',\n",
       " 'Revolutionary',\n",
       " 'Rico',\n",
       " 'Rights',\n",
       " 'Rigid',\n",
       " 'Rio',\n",
       " 'River',\n",
       " 'Rocky',\n",
       " 'Roman',\n",
       " 'Rome',\n",
       " 'Roosevelt',\n",
       " 'Root',\n",
       " 'Rule',\n",
       " 'Ruler',\n",
       " 'Russia',\n",
       " 'SESSION',\n",
       " 'SPECIAL',\n",
       " 'SYSTEM',\n",
       " 'Sabine',\n",
       " 'Sacredly',\n",
       " 'Sahn',\n",
       " 'Salerno',\n",
       " 'Sanitary',\n",
       " 'Santo',\n",
       " 'Savior',\n",
       " 'Scandinavia',\n",
       " 'Science',\n",
       " 'Scientists',\n",
       " 'Scipios',\n",
       " 'Scripture',\n",
       " 'Scythia',\n",
       " 'Second',\n",
       " 'Secretary',\n",
       " 'Sectionalism',\n",
       " 'Security',\n",
       " 'Seeking',\n",
       " 'Self',\n",
       " 'Senate',\n",
       " 'Senator',\n",
       " 'Senators',\n",
       " 'September',\n",
       " 'Sermon',\n",
       " 'Service',\n",
       " 'Shall',\n",
       " 'She',\n",
       " 'Shortly',\n",
       " 'Should',\n",
       " 'Sinai',\n",
       " 'Since',\n",
       " 'Situated',\n",
       " 'Slowly',\n",
       " 'Small',\n",
       " 'So',\n",
       " 'Social',\n",
       " 'Societies',\n",
       " 'Society',\n",
       " 'Solemnly',\n",
       " 'Somalia',\n",
       " 'Some',\n",
       " 'Something',\n",
       " 'Sometimes',\n",
       " 'South',\n",
       " 'Southern',\n",
       " 'Sovereignty',\n",
       " 'Soviet',\n",
       " 'Soviets',\n",
       " 'Spain',\n",
       " 'Spanish',\n",
       " 'Speaker',\n",
       " 'Splendid',\n",
       " 'St',\n",
       " 'Stages',\n",
       " 'Standing',\n",
       " 'Stars',\n",
       " 'Start',\n",
       " 'Starting',\n",
       " 'State',\n",
       " 'States',\n",
       " 'Steadfast',\n",
       " 'Stennis',\n",
       " 'Steps',\n",
       " 'Still',\n",
       " 'Stripped',\n",
       " 'Strong',\n",
       " 'Subordinate',\n",
       " 'Such',\n",
       " 'Suicide',\n",
       " 'Suitably',\n",
       " 'Sumter',\n",
       " 'Superficial',\n",
       " 'Suppose',\n",
       " 'Supreme',\n",
       " 'Surely',\n",
       " 'THE',\n",
       " ...]"
      ]
     },
     "execution_count": 29,
     "metadata": {},
     "output_type": "execute_result"
    }
   ],
   "source": [
    "# sorted list of vocabulary items\n",
    "sorted(set(text4))"
   ]
  },
  {
   "cell_type": "code",
   "execution_count": 28,
   "metadata": {},
   "outputs": [
    {
     "data": {
      "text/plain": [
       "9754"
      ]
     },
     "execution_count": 28,
     "metadata": {},
     "output_type": "execute_result"
    }
   ],
   "source": [
    "# lexical richness\n",
    "len(set(text4))"
   ]
  },
  {
   "cell_type": "code",
   "execution_count": 30,
   "metadata": {
    "scrolled": true
   },
   "outputs": [
    {
     "data": {
      "text/plain": [
       "14.941049825712529"
      ]
     },
     "execution_count": 30,
     "metadata": {},
     "output_type": "execute_result"
    }
   ],
   "source": [
    "# each word used 15 times on average - or each 15th word is unique?\n",
    "# Or each set of 15 words is unique? \n",
    "# Need to clarify how I interpret this.\n",
    "len(text4) / len(set(text4))"
   ]
  },
  {
   "cell_type": "code",
   "execution_count": 31,
   "metadata": {},
   "outputs": [
    {
     "data": {
      "text/plain": [
       "0.06692970116993173"
      ]
     },
     "execution_count": 31,
     "metadata": {},
     "output_type": "execute_result"
    }
   ],
   "source": [
    "# 6 percent? (I'm not sure how to read this as a percentage.)\n",
    "len(set(text4)) / len(text4)"
   ]
  },
  {
   "cell_type": "code",
   "execution_count": 32,
   "metadata": {},
   "outputs": [
    {
     "data": {
      "text/plain": [
       "7"
      ]
     },
     "execution_count": 32,
     "metadata": {},
     "output_type": "execute_result"
    }
   ],
   "source": [
    "# How often a word occurs in a text\n",
    "text4.count('Atlantic')"
   ]
  },
  {
   "cell_type": "code",
   "execution_count": 33,
   "metadata": {},
   "outputs": [
    {
     "data": {
      "text/plain": [
       "0.004803238755274985"
      ]
     },
     "execution_count": 33,
     "metadata": {},
     "output_type": "execute_result"
    }
   ],
   "source": [
    "# what percentage of the text is taken up by a specific word\n",
    "100 * text4.count('Atlantic') / len(text4)"
   ]
  },
  {
   "cell_type": "code",
   "execution_count": 34,
   "metadata": {
    "scrolled": true
   },
   "outputs": [
    {
     "data": {
      "text/plain": [
       "704"
      ]
     },
     "execution_count": 34,
     "metadata": {},
     "output_type": "execute_result"
    }
   ],
   "source": [
    "# How many times does lol occur in the Chat Corpus?\n",
    "text5.count('lol')"
   ]
  },
  {
   "cell_type": "code",
   "execution_count": 40,
   "metadata": {},
   "outputs": [
    {
     "data": {
      "text/plain": [
       "1.5640968673628082"
      ]
     },
     "execution_count": 40,
     "metadata": {},
     "output_type": "execute_result"
    }
   ],
   "source": [
    "# Percentage of lol in total number of words\n",
    "100 * text5.count('lol') / len(text5)"
   ]
  },
  {
   "cell_type": "markdown",
   "metadata": {},
   "source": [
    "If you want to repeat such calculations on several texts, it is tedious to keep retyping the formula. Instead, you can come up with your own name for a task, like \"lexical_diversity\" or \"percentage\", and associate it with a block of code. Now you only have to type a short name instead of one or more complete lines of Python code, and you can re-use it as often as you like. The block of code that does a task for us is called a **function**, and we define a short name for our function with the keyword `def`. The next example shows how to define two new functions, `lexical_diversity()` and `percentage()`"
   ]
  },
  {
   "cell_type": "code",
   "execution_count": 39,
   "metadata": {},
   "outputs": [],
   "source": [
    "# How to define two new functions\n",
    "# !Important - indentation\n",
    "# finish the indented block with a blank line\n",
    "\n",
    "def lexical_diversity(text):\n",
    "    return len(set(text)) / len(text)\n",
    "\n",
    "def percentage(count, total):\n",
    "    return 100 * count / total\n",
    "\n",
    "\n",
    "# In the definition of lexical_diversity() [1], \n",
    "# we specify a parameter named text . \n",
    "# This parameter is a \"placeholder\" for the actual text whose \n",
    "# lexical diversity we want to compute, and reoccurs in \n",
    "# the block of code that will run when the function is used [2]. \n",
    "# Similarly, percentage() is defined to take two parameters, \n",
    "# named count and total [3]."
   ]
  },
  {
   "cell_type": "markdown",
   "metadata": {},
   "source": [
    "Once Python knows that lexical_diversity() and percentage() are the names for specific blocks of code, we can go ahead and use these functions:"
   ]
  },
  {
   "cell_type": "code",
   "execution_count": 43,
   "metadata": {},
   "outputs": [
    {
     "data": {
      "text/plain": [
       "0.06230453042623537"
      ]
     },
     "execution_count": 43,
     "metadata": {},
     "output_type": "execute_result"
    }
   ],
   "source": [
    "lexical_diversity(text3)"
   ]
  },
  {
   "cell_type": "code",
   "execution_count": 44,
   "metadata": {},
   "outputs": [
    {
     "data": {
      "text/plain": [
       "0.13477005109975562"
      ]
     },
     "execution_count": 44,
     "metadata": {},
     "output_type": "execute_result"
    }
   ],
   "source": [
    "lexical_diversity(text5)"
   ]
  },
  {
   "cell_type": "code",
   "execution_count": 45,
   "metadata": {},
   "outputs": [
    {
     "data": {
      "text/plain": [
       "80.0"
      ]
     },
     "execution_count": 45,
     "metadata": {},
     "output_type": "execute_result"
    }
   ],
   "source": [
    "percentage(4, 5)"
   ]
  },
  {
   "cell_type": "code",
   "execution_count": 48,
   "metadata": {
    "scrolled": true
   },
   "outputs": [
    {
     "data": {
      "text/plain": [
       "1.4643016433938312"
      ]
     },
     "execution_count": 48,
     "metadata": {},
     "output_type": "execute_result"
    }
   ],
   "source": [
    "percentage(text4.count('a'), len(text4))"
   ]
  },
  {
   "cell_type": "markdown",
   "metadata": {},
   "source": [
    "### Recap\n",
    "\n",
    "We use or call a function such as `lexical_diversity()` by typing its name, followed by an open parenthesis, the name of the text, and then a close parenthesis. These parentheses will show up often; their role is to separate the name of a task — such as `lexical_diversity()` — from the data that the task is to be performed on — such as `text3`. The data value that we place in the parentheses when we call a function is an **argument** to the function.\n"
   ]
  },
  {
   "cell_type": "code",
   "execution_count": null,
   "metadata": {},
   "outputs": [],
   "source": []
  }
 ],
 "metadata": {
  "kernelspec": {
   "display_name": "Python 3",
   "language": "python",
   "name": "python3"
  },
  "language_info": {
   "codemirror_mode": {
    "name": "ipython",
    "version": 3
   },
   "file_extension": ".py",
   "mimetype": "text/x-python",
   "name": "python",
   "nbconvert_exporter": "python",
   "pygments_lexer": "ipython3",
   "version": "3.7.0"
  }
 },
 "nbformat": 4,
 "nbformat_minor": 2
}
